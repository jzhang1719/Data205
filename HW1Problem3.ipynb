{
 "cells": [
  {
   "cell_type": "code",
   "execution_count": 2,
   "metadata": {
    "collapsed": true
   },
   "outputs": [],
   "source": [
    "import pandas as pd\n",
    "import matplotlib.pyplot as plt\n",
    "import numpy as np\n",
    "from scipy import stats"
   ]
  },
  {
   "cell_type": "markdown",
   "metadata": {},
   "source": [
    "# Problem 3"
   ]
  },
  {
   "cell_type": "markdown",
   "metadata": {},
   "source": [
    "Load and read in data for each dataset."
   ]
  },
  {
   "cell_type": "code",
   "execution_count": 5,
   "metadata": {
    "collapsed": false
   },
   "outputs": [],
   "source": [
    "one='/home/idies/workspace/AS.171.205/data/noise_01.csv'\n",
    "two='/home/idies/workspace/AS.171.205/data/noise_02.csv'\n",
    "three='/home/idies/workspace/AS.171.205/data/noise_03.csv'\n",
    "four='/home/idies/workspace/AS.171.205/data/noise_04.csv'\n",
    "five='/home/idies/workspace/AS.171.205/data/noise_05.csv'\n",
    "ten='/home/idies/workspace/AS.171.205/data/noise_10.csv'\n",
    "df1=pd.read_csv(one,header = None)\n",
    "df2=pd.read_csv(two,header = None)\n",
    "df3=pd.read_csv(three,header = None)\n",
    "df4=pd.read_csv(four,header = None)\n",
    "df5=pd.read_csv(five,header = None)\n",
    "df10=pd.read_csv(ten,header = None)"
   ]
  },
  {
   "cell_type": "markdown",
   "metadata": {},
   "source": [
    "Store the means and variances of the datasets in two vectors."
   ]
  },
  {
   "cell_type": "code",
   "execution_count": 50,
   "metadata": {
    "collapsed": false
   },
   "outputs": [],
   "source": [
    "mean1=df1[0].mean()\n",
    "mean2=df2[0].mean()\n",
    "mean3=df3[0].mean()\n",
    "mean4=df4[0].mean()\n",
    "mean5=df5[0].mean()\n",
    "mean10=df10[0].mean()\n",
    "var1=df1[0].var()\n",
    "var2=df2[0].var()\n",
    "var3=df3[0].var()\n",
    "var4=df4[0].var()\n",
    "var5=df5[0].var()\n",
    "var10=df10[0].var()\n",
    "means=[mean1,mean2,mean3,mean4,mean5,mean10]\n",
    "var=[var1,var2,var3,var4,var5,var10]"
   ]
  },
  {
   "cell_type": "markdown",
   "metadata": {},
   "source": [
    "Note: I used N' and I' for the means of photons and intensity.\n",
    "If it were the case that the noise is due to the Poisson distribution of discrete photons, then N', the average number of photons, would equal (O_N)^2, the variance of the photons. However, we are not given the number of photons. Rather, we are given the intensity. We do know, though, that I = a*N, where I is intensity and N is number of photons, so we get I' = a * N'. But we also get, from explicitly writing out what variance of I and variance of N, that (O_I)^2 = a^2 * (O_N)^2. From above, if the noise is due to Poisson distribution of photons, then N' = (O_N)^2, so plugging in for N', we get I' = a * (O_N)^2 and (O_I)^2 = a^2 * (O_N)^2. Dividing, we get that (O_I)^2 / I' = a. From the code above, we can check that each voltage will produce an \"a\" that is very close."
   ]
  },
  {
   "cell_type": "code",
   "execution_count": 52,
   "metadata": {
    "collapsed": true
   },
   "outputs": [],
   "source": [
    "a1 = var1 / mean1\n",
    "a2 = var2 / mean2\n",
    "a3 = var3 / mean3\n",
    "a4 = var4 / mean4\n",
    "a5 = var5 / mean5\n",
    "a10 = var10 / mean10"
   ]
  },
  {
   "cell_type": "code",
   "execution_count": 53,
   "metadata": {
    "collapsed": false
   },
   "outputs": [
    {
     "name": "stdout",
     "output_type": "stream",
     "text": [
      "0.007811273810489912\n",
      "0.008616888845957212\n",
      "0.00942642753292682\n",
      "0.008997968160171527\n",
      "0.008921665676350752\n",
      "0.005540958605731412\n"
     ]
    }
   ],
   "source": [
    "print(a1)\n",
    "print(a2)\n",
    "print(a3)\n",
    "print(a4)\n",
    "print(a5)\n",
    "print(a10)"
   ]
  },
  {
   "cell_type": "markdown",
   "metadata": {},
   "source": [
    "The a's seem relatively close, though the a's corresponding to voltage of 1.0 and voltage 0.1 are a bit farther from the others. To better understand what is going on, I plotted means vs. variances."
   ]
  },
  {
   "cell_type": "code",
   "execution_count": 62,
   "metadata": {
    "collapsed": false
   },
   "outputs": [
    {
     "data": {
      "image/png": "[encoded data removed]",
      "text/plain": [
       "<matplotlib.figure.Figure at 0x7f9da539a208>"
      ]
     },
     "metadata": {},
     "output_type": "display_data"
    }
   ],
   "source": [
    "x=np.array(means)\n",
    "y=np.array(var)\n",
    "slope, intercept, r_value, p_value, std_err = stats.linregress(x,y)\n",
    "yfit=x*slope+intercept\n",
    "\n",
    "plt.xlim(0.0001, 0.002) \n",
    "plt.ylim(0.0000001, 0.00001)\n",
    "\n",
    "plt.scatter(x, y)\n",
    "plt.plot(x, yfit)\n",
    "plt.xlabel(r'$\\mathrm{X}$', fontsize=14)\n",
    "plt.ylabel(r'$\\mathrm{Y}$', fontsize=14)\n",
    "plt.show()"
   ]
  },
  {
   "cell_type": "code",
   "execution_count": 55,
   "metadata": {
    "collapsed": false
   },
   "outputs": [
    {
     "data": {
      "text/plain": [
       "0.94863710823867997"
      ]
     },
     "execution_count": 55,
     "metadata": {},
     "output_type": "execute_result"
    }
   ],
   "source": [
    "#r value\n",
    "r_value"
   ]
  },
  {
   "cell_type": "code",
   "execution_count": 56,
   "metadata": {
    "collapsed": false
   },
   "outputs": [
    {
     "data": {
      "text/plain": [
       "0.0038894685547082083"
      ]
     },
     "execution_count": 56,
     "metadata": {},
     "output_type": "execute_result"
    }
   ],
   "source": [
    "#p value\n",
    "p_value"
   ]
  },
  {
   "cell_type": "code",
   "execution_count": 57,
   "metadata": {
    "collapsed": false
   },
   "outputs": [
    {
     "data": {
      "text/plain": [
       "0.0049461191204572463"
      ]
     },
     "execution_count": 57,
     "metadata": {},
     "output_type": "execute_result"
    }
   ],
   "source": [
    "#slope\n",
    "slope"
   ]
  },
  {
   "cell_type": "code",
   "execution_count": 58,
   "metadata": {
    "collapsed": false
   },
   "outputs": [
    {
     "data": {
      "text/plain": [
       "1.1270209695558862e-06"
      ]
     },
     "execution_count": 58,
     "metadata": {},
     "output_type": "execute_result"
    }
   ],
   "source": [
    "#intercept\n",
    "intercept"
   ]
  },
  {
   "cell_type": "markdown",
   "metadata": {},
   "source": [
    "The r-value is 0.94863 which is very close to 1, which indicates a very strong linear relationship. The p-value is also very small, which indicates that the relationship is significant. Also, the intercept (1.1270e-6) is very small, so the line essentially goes through the origin, which is what we want. The only thing that is a bit odd is that the slope is 0.0049, which is not very close to the a's that were calculated earlier. Nevertheless, there is a linear relationship between the means and variances of the intensity data, so I conclude that the noise is due to the Poisson distribution of the discrete photons."
   ]
  },
  {
   "cell_type": "code",
   "execution_count": null,
   "metadata": {
    "collapsed": true
   },
   "outputs": [],
   "source": []
  }
 ],
 "metadata": {
  "kernelspec": {
   "display_name": "Python 3",
   "language": "python",
   "name": "python3"
  },
  "language_info": {
   "codemirror_mode": {
    "name": "ipython",
    "version": 3
   },
   "file_extension": ".py",
   "mimetype": "text/x-python",
   "name": "python",
   "nbconvert_exporter": "python",
   "pygments_lexer": "ipython3",
   "version": "3.5.3"
  }
 },
 "nbformat": 4,
 "nbformat_minor": 0
}
