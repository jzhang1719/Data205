{
 "cells": [
  {
   "cell_type": "markdown",
   "metadata": {
    "collapsed": true
   },
   "source": [
    "## Problem 1 "
   ]
  },
  {
   "cell_type": "markdown",
   "metadata": {},
   "source": [
    "Note: I completed this problem assuming that earlier parts were completed. Also, please click into the cells to see the trees in the intended form."
   ]
  },
  {
   "cell_type": "markdown",
   "metadata": {},
   "source": [
    "Part a:  A = [w, m, q, k, f, p, b, a, c, d, b, k, g]"
   ]
  },
  {
   "cell_type": "markdown",
   "metadata": {},
   "source": [
    "This is the starting binary heap.\n",
    "                w\n",
    "              /   \\\n",
    "            m       q\n",
    "           / \\     / \\\n",
    "          k   f   p   b\n",
    "         /\\  /\\  /\\\n",
    "        a c  d b k g\n",
    "        "
   ]
  },
  {
   "cell_type": "markdown",
   "metadata": {},
   "source": [
    "Part b: Add letter v."
   ]
  },
  {
   "cell_type": "markdown",
   "metadata": {},
   "source": [
    "Starting with:\n",
    "                w\n",
    "              /   \\\n",
    "            m       q\n",
    "           / \\     / \\\n",
    "          k   f   p   b\n",
    "         /\\  /\\  /\\\n",
    "        a c  d b k g\n",
    "\n",
    "Step 1: Add v to end of tree.\n",
    "                w\n",
    "              /   \\\n",
    "            m       q\n",
    "           / \\     / \\\n",
    "          k   f   p   b\n",
    "         /\\  /\\  /\\  /\n",
    "        a c  d b k g v\n",
    "\n",
    "Step 2: Swap v with b, because v is \"greater than\" b.\n",
    "                w\n",
    "              /   \\\n",
    "            m       q\n",
    "           / \\     / \\\n",
    "          k   f   p   v\n",
    "         /\\  /\\  /\\  /\n",
    "        a c  d b k g b\n",
    "\n",
    "Step 3: Swap v with q, because v is \"greater than\" q.\n",
    "                w\n",
    "              /   \\\n",
    "            m       v\n",
    "           / \\     / \\\n",
    "          k   f   p   q\n",
    "         /\\  /\\  /\\  /\n",
    "        a c  d b k g b\n",
    "v is \"less than\" w, so insertion is complete. "
   ]
  },
  {
   "cell_type": "markdown",
   "metadata": {},
   "source": [
    "Part c: Remove maximum element, which is w."
   ]
  },
  {
   "cell_type": "markdown",
   "metadata": {},
   "source": [
    "Starting with: \n",
    "                w\n",
    "              /   \\\n",
    "            m       v\n",
    "           / \\     / \\\n",
    "          k   f   p   q\n",
    "         /\\  /\\  /\\  /\n",
    "        a c  d b k g b\n",
    "\n",
    "Step 1: Swap w with the last element, b.\n",
    "                b\n",
    "              /   \\\n",
    "            m       v\n",
    "           / \\     / \\\n",
    "          k   f   p   q\n",
    "         /\\  /\\  /\\  /\n",
    "        a c  d b k g w\n",
    "\n",
    "Step 2: Remove w.\n",
    "                b\n",
    "              /   \\\n",
    "            m       v\n",
    "           / \\     / \\\n",
    "          k   f   p   q\n",
    "         /\\  /\\  /\\  \n",
    "        a c  d b k g \n",
    "\n",
    "Step 3: Swap b with bigger of two children, v.\n",
    "                v\n",
    "              /   \\\n",
    "            m       b\n",
    "           / \\     / \\\n",
    "          k   f   p   q\n",
    "         /\\  /\\  /\\  \n",
    "        a c  d b k g \n",
    "\n",
    "Step 4: Swap b with bigger of two children, q.\n",
    "                v\n",
    "              /   \\\n",
    "            m       q\n",
    "           / \\     / \\\n",
    "          k   f   p   b\n",
    "         /\\  /\\  /\\  \n",
    "        a c  d b k g\n",
    "Removal is complete, as b has no children."
   ]
  },
  {
   "cell_type": "markdown",
   "metadata": {},
   "source": [
    "Part d: Remove m."
   ]
  },
  {
   "cell_type": "markdown",
   "metadata": {},
   "source": [
    "Starting with: \n",
    "                v\n",
    "              /   \\\n",
    "            m       q\n",
    "           / \\     / \\\n",
    "          k   f   p   b\n",
    "         /\\  /\\  /\\  \n",
    "        a c  d b k g\n",
    "\n",
    "Step 1: Swap m with last element, g.\n",
    "                v\n",
    "              /   \\\n",
    "            g       q\n",
    "           / \\     / \\\n",
    "          k   f   p   b\n",
    "         /\\  /\\  /\\  \n",
    "        a c  d b k m\n",
    "\n",
    "Step 2: Remove m.\n",
    "                v\n",
    "              /   \\\n",
    "            g       q\n",
    "           / \\     / \\\n",
    "          k   f   p   b\n",
    "         /\\  /\\  /  \n",
    "        a c  d b k \n",
    "\n",
    "Step 3: Swap g with larger of two children, k.\n",
    "                v\n",
    "              /   \\\n",
    "            k       q\n",
    "           / \\     / \\\n",
    "          g   f   p   b\n",
    "         /\\  /\\  /  \n",
    "        a c  d b k \n",
    "g is bigger than a and c, so removal is complete."
   ]
  }
 ],
 "metadata": {
  "kernelspec": {
   "display_name": "Python 3",
   "language": "python",
   "name": "python3"
  },
  "language_info": {
   "codemirror_mode": {
    "name": "ipython",
    "version": 3
   },
   "file_extension": ".py",
   "mimetype": "text/x-python",
   "name": "python",
   "nbconvert_exporter": "python",
   "pygments_lexer": "ipython3",
   "version": "3.5.3"
  }
 },
 "nbformat": 4,
 "nbformat_minor": 0
}
