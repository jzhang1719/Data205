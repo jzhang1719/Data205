{
 "cells": [
  {
   "cell_type": "markdown",
   "metadata": {},
   "source": [
    "## Problem 2"
   ]
  },
  {
   "cell_type": "code",
   "execution_count": 13,
   "metadata": {
    "collapsed": true
   },
   "outputs": [],
   "source": [
    "import numpy as np\n",
    "import pandas as pd"
   ]
  },
  {
   "cell_type": "markdown",
   "metadata": {},
   "source": [
    "Load csv with the numbers"
   ]
  },
  {
   "cell_type": "code",
   "execution_count": 14,
   "metadata": {
    "collapsed": false
   },
   "outputs": [],
   "source": [
    "data='/home/idies/workspace/AS.171.205/data/hw4-2.csv'\n",
    "df=pd.read_csv(data,header = None)"
   ]
  },
  {
   "cell_type": "code",
   "execution_count": 15,
   "metadata": {
    "collapsed": false
   },
   "outputs": [],
   "source": [
    "array = np.array(df[0])"
   ]
  },
  {
   "cell_type": "markdown",
   "metadata": {},
   "source": [
    "Part a approach: First sort the array of numbers from least to greatest. Then run loop to find smallest number that has 'K' repeats."
   ]
  },
  {
   "cell_type": "code",
   "execution_count": 16,
   "metadata": {
    "collapsed": true
   },
   "outputs": [],
   "source": [
    "# Sort array from smallest to largest.\n",
    "ascArr = sorted(array)"
   ]
  },
  {
   "cell_type": "code",
   "execution_count": 17,
   "metadata": {
    "collapsed": false
   },
   "outputs": [],
   "source": [
    "# Function to find first element in array with a certain frequency\n",
    "def find(sortedArr, k):\n",
    "    freq = 1;\n",
    "    ind = 0;\n",
    "    for i in range(1, len(sortedArr)):\n",
    "        if sortedArr[i] == sortedArr[i-1]:\n",
    "            freq += 1;\n",
    "        else:\n",
    "            if freq == k:\n",
    "                ind = i-1;\n",
    "                break;\n",
    "            freq = 1;\n",
    "    return sortedArr[ind]"
   ]
  },
  {
   "cell_type": "code",
   "execution_count": 18,
   "metadata": {
    "collapsed": false
   },
   "outputs": [
    {
     "name": "stdout",
     "output_type": "stream",
     "text": [
      "Smallest number that repeats 151 times: 99\n"
     ]
    }
   ],
   "source": [
    "print(\"Smallest number that repeats 151 times:\",find(ascArr, 151))"
   ]
  },
  {
   "cell_type": "code",
   "execution_count": 19,
   "metadata": {
    "collapsed": false
   },
   "outputs": [
    {
     "name": "stdout",
     "output_type": "stream",
     "text": [
      "Smallest number that repeats 182 times: 2389\n"
     ]
    }
   ],
   "source": [
    "print(\"Smallest number that repeats 182 times:\",find(ascArr, 182))"
   ]
  },
  {
   "cell_type": "code",
   "execution_count": 20,
   "metadata": {
    "collapsed": false
   },
   "outputs": [
    {
     "name": "stdout",
     "output_type": "stream",
     "text": [
      "Smallest number that repeats 482 times: 1002\n"
     ]
    }
   ],
   "source": [
    "print(\"Smallest number that repeats 482 times:\",find(ascArr, 482))"
   ]
  },
  {
   "cell_type": "markdown",
   "metadata": {},
   "source": [
    "Part b approach: Sort array from largest to smallest. Find median of repeat counts. Call function from part a on this number and the newly ordered array."
   ]
  },
  {
   "cell_type": "code",
   "execution_count": 21,
   "metadata": {
    "collapsed": false
   },
   "outputs": [],
   "source": [
    "# Sort array from largest to smallest.\n",
    "dscArr=sorted(array, reverse=True)"
   ]
  },
  {
   "cell_type": "code",
   "execution_count": 22,
   "metadata": {
    "collapsed": false
   },
   "outputs": [],
   "source": [
    "# Find the median of the repeats.\n",
    "repCounts=np.array([])\n",
    "rep = 1;\n",
    "for i in range(1, len(ascArr)):\n",
    "    if ascArr[i] == ascArr[i-1]:\n",
    "            rep += 1;\n",
    "    else:\n",
    "        repCounts = np.append(repCounts, rep);\n",
    "        rep = 1;\n",
    "    if i == len(ascArr) - 1:\n",
    "        repCounts = np.append(repCounts, rep)"
   ]
  },
  {
   "cell_type": "code",
   "execution_count": 23,
   "metadata": {
    "collapsed": false
   },
   "outputs": [
    {
     "name": "stdout",
     "output_type": "stream",
     "text": [
      "The median of the repeats is 263\n"
     ]
    }
   ],
   "source": [
    "print(\"The median of the repeats is\",int(np.median(repCounts)))"
   ]
  },
  {
   "cell_type": "code",
   "execution_count": 24,
   "metadata": {
    "collapsed": false
   },
   "outputs": [
    {
     "name": "stdout",
     "output_type": "stream",
     "text": [
      "The largest number whose repeat count is equal to the median of all repeat counts (263): 8725\n"
     ]
    }
   ],
   "source": [
    "# Call function from part a.\n",
    "print(\"The largest number whose repeat count is equal to the median of all repeat counts (263):\"\n",
    "      ,find(dscArr, 263))"
   ]
  },
  {
   "cell_type": "code",
   "execution_count": null,
   "metadata": {
    "collapsed": true
   },
   "outputs": [],
   "source": []
  }
 ],
 "metadata": {
  "kernelspec": {
   "display_name": "Python 3",
   "language": "python",
   "name": "python3"
  },
  "language_info": {
   "codemirror_mode": {
    "name": "ipython",
    "version": 3
   },
   "file_extension": ".py",
   "mimetype": "text/x-python",
   "name": "python",
   "nbconvert_exporter": "python",
   "pygments_lexer": "ipython3",
   "version": "3.5.3"
  }
 },
 "nbformat": 4,
 "nbformat_minor": 0
}
