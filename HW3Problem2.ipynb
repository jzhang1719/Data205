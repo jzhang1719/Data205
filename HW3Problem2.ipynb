{
 "cells": [
  {
   "cell_type": "markdown",
   "metadata": {},
   "source": [
    "# Problem 2"
   ]
  },
  {
   "cell_type": "code",
   "execution_count": null,
   "metadata": {
    "collapsed": true
   },
   "outputs": [],
   "source": [
    "import pandas as pd\n",
    "import matplotlib.pyplot as plt\n",
    "import numpy as np\n",
    "import operator"
   ]
  },
  {
   "cell_type": "markdown",
   "metadata": {},
   "source": [
    "Read in csv, extract temperature and CO2 columns, create average vectors."
   ]
  },
  {
   "cell_type": "code",
   "execution_count": null,
   "metadata": {
    "collapsed": false
   },
   "outputs": [],
   "source": [
    "f='/home/idies/workspace/AS.171.205/data/atacama-2012-sample.csv'\n",
    "df=pd.read_csv(f, header=0)\n",
    "# Set day 70 CO2 values to 0.\n",
    "df.iloc[1633:1657, 3:5] = 0\n",
    "\n",
    "# CO2 columns\n",
    "co2_1=df['c3'];\n",
    "co2_2=df['c4'];\n",
    "avgCO2=[x + y for x, y in zip(co2_1, co2_2)]\n",
    "avgCO2=[x / 2 for x in avgCO2]\n",
    "\n",
    "# Temp columns\n",
    "temp1=df['t5'];\n",
    "temp2=df['t6'];\n",
    "avgTemp=[x + y for x, y in zip(temp1, temp2)]\n",
    "avgTemp = [x / 2 for x in avgTemp]"
   ]
  },
  {
   "cell_type": "markdown",
   "metadata": {},
   "source": [
    "Function to compute Cross Correlation Function."
   ]
  },
  {
   "cell_type": "code",
   "execution_count": 141,
   "metadata": {
    "collapsed": true
   },
   "outputs": [],
   "source": [
    "def crossCor(a,b,tau,N):\n",
    "    sum=0;\n",
    "    meanA=np.mean(a);\n",
    "    meanB=np.mean(b);\n",
    "    for i in range(0,len(a)-tau):\n",
    "        sum+=(a[i]-meanA)*(b[i+tau]-meanB)\n",
    "    return sum / N"
   ]
  },
  {
   "cell_type": "markdown",
   "metadata": {
    "collapsed": true
   },
   "source": [
    "Part A: Auto-correlation for temp and CO2."
   ]
  },
  {
   "cell_type": "code",
   "execution_count": 142,
   "metadata": {
    "collapsed": false
   },
   "outputs": [],
   "source": [
    "temp_ac=[];\n",
    "CO2_ac=[];\n",
    "for i in range(0,49):\n",
    "    temp_ac.append(crossCor(avgTemp,avgTemp,i,len(avgTemp)-i))\n",
    "for i in range(0,49):\n",
    "    CO2_ac.append(crossCor(avgCO2,avgCO2,i,len(avgCO2)-i))"
   ]
  },
  {
   "cell_type": "markdown",
   "metadata": {},
   "source": [
    "Graph for Temperature"
   ]
  },
  {
   "cell_type": "code",
   "execution_count": 143,
   "metadata": {
    "collapsed": false
   },
   "outputs": [
    {
     "data": {
      "text/plain": [
       "<matplotlib.text.Text at 0x7fd4b3fcc7f0>"
      ]
     },
     "execution_count": 143,
     "metadata": {},
     "output_type": "execute_result"
    },
    {
     "data": {
      "image/png": "[encoded data removed]",
      "text/plain": [
       "<matplotlib.figure.Figure at 0x7fd4b3f0e128>"
      ]
     },
     "metadata": {},
     "output_type": "display_data"
    }
   ],
   "source": [
    "x=range(0,49);\n",
    "y1=temp_ac\n",
    "plt.scatter(x,y1)\n",
    "plt.title(\"Temporal Autocorrelation Function Temperature\")\n",
    "plt.xlim(0,50)\n",
    "plt.xlabel(r'$\\mathrm{Tau}$', fontsize=14)\n",
    "plt.ylabel(r'$\\mathrm{Auto Correlation}$', fontsize=14)"
   ]
  },
  {
   "cell_type": "markdown",
   "metadata": {},
   "source": [
    "As seen from the graph, the highest correlation for temperatures (other than 0) is for a tau offset of 24 or 48 hours. This is expected because the temperature at 9 am one day is likely to be very close to the temperature at 9 am the next day. Also, the least correlation occurs at tau offsets of 12 and 36 hours. This is also expected because at any time, say 3 am, will be extremely unrelated to or different from the temperature at 3 pm. It also makes sense that the graph goes up and down, as correlation should increase as tau offset approaches 24 or 48, and decrease as tau offset approaches 12 or 36."
   ]
  },
  {
   "cell_type": "markdown",
   "metadata": {},
   "source": [
    "Graph for CO2"
   ]
  },
  {
   "cell_type": "code",
   "execution_count": 144,
   "metadata": {
    "collapsed": false
   },
   "outputs": [
    {
     "data": {
      "text/plain": [
       "<matplotlib.text.Text at 0x7fd4b83107f0>"
      ]
     },
     "execution_count": 144,
     "metadata": {},
     "output_type": "execute_result"
    },
    {
     "data": {
      "image/png": "[encoded data removed]",
      "text/plain": [
       "<matplotlib.figure.Figure at 0x7fd4b810e160>"
      ]
     },
     "metadata": {},
     "output_type": "display_data"
    }
   ],
   "source": [
    "x=range(0,49);\n",
    "y1=CO2_ac\n",
    "plt.scatter(x,y1)\n",
    "plt.title(\"Temporal Autocorrelation Function CO2\")\n",
    "plt.xlim(0,50)\n",
    "plt.xlabel(r'$\\mathrm{Tau}$', fontsize=14)\n",
    "plt.ylabel(r'$\\mathrm{Auto Correlation}$', fontsize=14)"
   ]
  },
  {
   "cell_type": "markdown",
   "metadata": {},
   "source": [
    "As seen from the graph, the highest correlation for CO2 concentration (other than 0) is for a tau offset of 24 or 48 hours. Also, the least correlation occurs at tau offsets of 12 and 36 hours. It also makes sense that the graph goes up and down, as correlation should increase as tau offset approaches 24 or 48, and decrease as tau offset approaches 12 or 36. This kind of makes sense because CO2 concentration is probably affected by certain events that happen daily at around the same time. For example, maybe the daily cycle of human activity influences the daily cycle of CO2 concentration."
   ]
  },
  {
   "cell_type": "markdown",
   "metadata": {},
   "source": [
    "Part B: Cross-Correlation for temp and CO2."
   ]
  },
  {
   "cell_type": "code",
   "execution_count": 136,
   "metadata": {
    "collapsed": true
   },
   "outputs": [],
   "source": [
    "Cross=[];\n",
    "for i in range(0,49):\n",
    "    Cross.append(crossCor(avgCO2,avgTemp,i,len(avgTemp)-i))"
   ]
  },
  {
   "cell_type": "markdown",
   "metadata": {},
   "source": [
    "Graph"
   ]
  },
  {
   "cell_type": "code",
   "execution_count": 138,
   "metadata": {
    "collapsed": false
   },
   "outputs": [
    {
     "data": {
      "text/plain": [
       "<matplotlib.text.Text at 0x7fd4b80d4b38>"
      ]
     },
     "execution_count": 138,
     "metadata": {},
     "output_type": "execute_result"
    },
    {
     "data": {
      "image/png": "[encoded data removed]",
      "text/plain": [
       "<matplotlib.figure.Figure at 0x7fd4b8161a90>"
      ]
     },
     "metadata": {},
     "output_type": "display_data"
    }
   ],
   "source": [
    "x=range(0,49);\n",
    "y1=Cross\n",
    "plt.scatter(x,y1)\n",
    "plt.title(\"Temporal Cross-correlation Function\")\n",
    "plt.xlim(0,50)\n",
    "plt.xlabel(r'$\\mathrm{Tau}$', fontsize=14)\n",
    "plt.ylabel(r'$\\mathrm{Cross Correlation}$', fontsize=14)"
   ]
  },
  {
   "cell_type": "markdown",
   "metadata": {},
   "source": [
    "I wasn't exactly sure what to make of the data. As can be seen, the correlation is negative, so as temperature increases, CO2 decreases, or vice versa. The correlation is strongest once again at an offset of 24 and 48, as this is when the correlation is most negative. Perhaps this suggests that CO2 concentration and temperature are not really related."
   ]
  },
  {
   "cell_type": "markdown",
   "metadata": {
    "collapsed": true
   },
   "source": [
    "Part C: Time Series"
   ]
  },
  {
   "cell_type": "code",
   "execution_count": 165,
   "metadata": {
    "collapsed": false
   },
   "outputs": [
    {
     "name": "stdout",
     "output_type": "stream",
     "text": [
      "Eigenvalues in descending order:\n",
      "47.3598953519\n",
      "0.838334733681\n",
      "0.0848192649618\n",
      "0.0565559070111\n",
      "0.0367245490053\n",
      "0.0154120828409\n",
      "0.00565124403975\n",
      "0.00253249751865\n",
      "0.00133730502569\n",
      "0.00083000090343\n",
      "0.000321273300593\n",
      "0.000240958529021\n",
      "0.00018663103952\n",
      "0.000138198786356\n",
      "0.000103460148354\n",
      "7.55195644862e-05\n",
      "5.32180624408e-05\n",
      "4.23830919429e-05\n",
      "2.61147692892e-05\n",
      "2.18575203135e-05\n",
      "1.96759128759e-05\n",
      "1.78916770459e-05\n",
      "8.89055170619e-06\n",
      "1.23346889554e-05\n",
      "1.76905916295e-16\n",
      "5.29455841586e-16\n",
      "5.30887878534e-18\n",
      "7.24032363806e-26\n",
      "7.62610425507e-30\n",
      "7.62610425507e-30\n",
      "4.74848889217e-30\n",
      "2.86180516015e-30\n",
      "2.86180516015e-30\n",
      "2.35384872333e-30\n",
      "9.47775293642e-31\n",
      "9.47775293642e-31\n",
      "8.2461837374e-31\n",
      "6.53674338202e-31\n",
      "6.53674338202e-31\n",
      "5.53197314019e-31\n",
      "6.88180989896e-31\n",
      "6.88180989896e-31\n",
      "3.58706196002e-31\n",
      "3.58706196002e-31\n",
      "4.13597926545e-31\n",
      "4.13597926545e-31\n",
      "1.0333306804e-31\n",
      "1.29737203353e-31\n"
     ]
    }
   ],
   "source": [
    "from sklearn.preprocessing import StandardScaler\n",
    "from sklearn.decomposition import PCA \n",
    "# Break into daily vectors.\n",
    "dt5=[temp1[x:x+24] for x in range(0,len(temp1),24)]\n",
    "dt6=[temp1[x:x+24] for x in range(0,len(temp1),24)]\n",
    "newdf=np.column_stack((dt5,dt6))\n",
    "\n",
    "# I got this from this website: \n",
    "# http://blog.districtdatalabs.com/principal-component-analysis-with-python\n",
    "X_std = StandardScaler().fit_transform(newdf)\n",
    "\n",
    "mean_vec = np.mean(X_std, axis=0)\n",
    "cov_mat = (X_std - mean_vec).T.dot((X_std - mean_vec)) / (X_std.shape[0]-1)\n",
    "\n",
    "# Perform eigendecomposition on covariance matrix\n",
    "cov_mat = np.cov(X_std.T)\n",
    "eig_vals, eig_vecs = np.linalg.eig(cov_mat)\n",
    "\n",
    "# Visually confirm that the list is correctly sorted by decreasing eigenvalues\n",
    "eig_pairs = [(np.abs(eig_vals[i]), eig_vecs[:,i]) for i in range(len(eig_vals))]\n",
    "print('Eigenvalues in descending order:')\n",
    "for i in eig_pairs:\n",
    "    print(i[0])"
   ]
  },
  {
   "cell_type": "code",
   "execution_count": 166,
   "metadata": {
    "collapsed": false
   },
   "outputs": [
    {
     "name": "stdout",
     "output_type": "stream",
     "text": [
      "[ 0.98073323  0.01525196  0.00180862]\n"
     ]
    }
   ],
   "source": [
    "pca = PCA(n_components=3)\n",
    "pca.fit_transform(newdf)\n",
    "print(pca.explained_variance_ratio_ )"
   ]
  },
  {
   "cell_type": "markdown",
   "metadata": {},
   "source": [
    "The explained variance for the first component is extremely high. Therefore, since the autocorrelation showed highest correlations for offsets of 24, I'm guessing that this component is the hour of the day (from 0 to 23). The next component I'm guessing is the actual day. There are enough days that this might explain some of the variance. Finally, I'm guessing that the third component is CO2. As shown before, there is a negative correlation between CO2 and temperature."
   ]
  },
  {
   "cell_type": "code",
   "execution_count": 170,
   "metadata": {
    "collapsed": false
   },
   "outputs": [
    {
     "data": {
      "image/png": "[encoded data removed]",
      "text/plain": [
       "<matplotlib.figure.Figure at 0x7fd4b806c780>"
      ]
     },
     "metadata": {},
     "output_type": "display_data"
    }
   ],
   "source": [
    "#Explained variance\n",
    "pca = PCA().fit(X_std)\n",
    "plt.plot(np.cumsum(pca.explained_variance_ratio_))\n",
    "plt.xlabel('number of components')\n",
    "plt.ylabel('cumulative explained variance')\n",
    "plt.xlim(0,3)\n",
    "plt.show()\n",
    "    "
   ]
  },
  {
   "cell_type": "markdown",
   "metadata": {},
   "source": [
    "This shows that almost all the variance is due to the first 3 principal components."
   ]
  },
  {
   "cell_type": "code",
   "execution_count": null,
   "metadata": {
    "collapsed": true
   },
   "outputs": [],
   "source": []
  }
 ],
 "metadata": {
  "kernelspec": {
   "display_name": "Python 3",
   "language": "python",
   "name": "python3"
  },
  "language_info": {
   "codemirror_mode": {
    "name": "ipython",
    "version": 3
   },
   "file_extension": ".py",
   "mimetype": "text/x-python",
   "name": "python",
   "nbconvert_exporter": "python",
   "pygments_lexer": "ipython3",
   "version": "3.5.3"
  }
 },
 "nbformat": 4,
 "nbformat_minor": 0
}
