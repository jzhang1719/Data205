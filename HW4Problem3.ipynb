{
 "cells": [
  {
   "cell_type": "markdown",
   "metadata": {},
   "source": [
    "## Problem 3"
   ]
  },
  {
   "cell_type": "code",
   "execution_count": 1,
   "metadata": {
    "collapsed": true
   },
   "outputs": [],
   "source": [
    "import numpy as np\n",
    "import matplotlib.pyplot as plt\n",
    "import pandas as pd\n",
    "from numpy import linalg"
   ]
  },
  {
   "cell_type": "markdown",
   "metadata": {},
   "source": [
    "Part a: Create adjacency matrix for the given graph"
   ]
  },
  {
   "cell_type": "code",
   "execution_count": 2,
   "metadata": {
    "collapsed": false
   },
   "outputs": [
    {
     "data": {
      "text/plain": [
       "array([[0, 1, 0, 1, 0, 0, 0, 1, 1, 0, 0],\n",
       "       [1, 0, 0, 0, 0, 1, 0, 1, 0, 0, 0],\n",
       "       [0, 0, 0, 1, 0, 1, 0, 0, 0, 0, 0],\n",
       "       [1, 0, 1, 0, 1, 0, 0, 0, 0, 0, 0],\n",
       "       [0, 0, 0, 1, 0, 1, 0, 0, 1, 1, 0],\n",
       "       [0, 1, 1, 0, 1, 0, 1, 0, 1, 0, 0],\n",
       "       [0, 0, 0, 0, 0, 1, 0, 0, 0, 1, 0],\n",
       "       [1, 1, 0, 0, 0, 0, 0, 0, 1, 0, 1],\n",
       "       [1, 0, 0, 0, 1, 1, 0, 1, 0, 1, 0],\n",
       "       [0, 0, 0, 0, 1, 0, 1, 0, 1, 0, 1],\n",
       "       [0, 0, 0, 0, 0, 0, 0, 1, 0, 1, 0]])"
      ]
     },
     "execution_count": 2,
     "metadata": {},
     "output_type": "execute_result"
    }
   ],
   "source": [
    "#    x1 x2 x3 x4 x5 x6 x7 x8 x9 x10 x11 \n",
    "# x1  0  1  0  1  0  0  0  1  1   0   0  \n",
    "# x2  1  0  0  0  0  1  0  1  0   0   0\n",
    "# x3  0  0  0  1  0  1  0  0  0   0   0\n",
    "# x4  1  0  1  0  1  0  0  0  0   0   0\n",
    "# x5  0  0  0  1  0  1  0  0  1   1   0\n",
    "# x6  0  1  1  0  1  0  1  0  1   0   0\n",
    "# x7  0  0  0  0  0  1  0  0  0   1   0\n",
    "# x8  1  1  0  0  0  0  0  0  1   0   1\n",
    "# x9  1  0  0  0  1  1  0  1  0   1   0\n",
    "# x10 0  0  0  0  1  0  1  0  1   0   1\n",
    "# x11 0  0  0  0  0  0  0  1  0   1   0\n",
    "\n",
    "# Putting it into a np array form, it is as follows:\n",
    "adjMat = np.array([[0,1,0,1,0,0,0,1,1,0,0],[1,0,0,0,0,1,0,1,0,0,0],[0,0,0,1,0,1,0,0,0,0,0],\n",
    "                   [1,0,1,0,1,0,0,0,0,0,0],[0,0,0,1,0,1,0,0,1,1,0],[0,1,1,0,1,0,1,0,1,0,0],\n",
    "                   [0,0,0,0,0,1,0,0,0,1,0],[1,1,0,0,0,0,0,0,1,0,1],[1,0,0,0,1,1,0,1,0,1,0],\n",
    "                   [0,0,0,0,1,0,1,0,1,0,1],[0,0,0,0,0,0,0,1,0,1,0]])\n",
    "adjMat"
   ]
  },
  {
   "cell_type": "markdown",
   "metadata": {},
   "source": [
    "Part b: Count number of closed triangles. "
   ]
  },
  {
   "cell_type": "markdown",
   "metadata": {},
   "source": [
    "First, note that, two vertices i,j are connected if there is a 1 in the i,jth entry of the adjacency matrix. Similarly, the number of distinct length two paths from i to j is the i,jth entry of the square of the adjacency matrix, and the number of distinct length three paths from i to j is the i,jth entry of the cube of the adjacency matrix. We want closed triangles, which are length 3 and start and end at the same vertex. Thus, we need to look at the trace of the cubed adjacency matrix to get the number of length three paths from a vertex to itself. However, the trace will overcount the number of triangles by a factor of 6 because each triangle has three vertices and starting from a given vertex, one can go to one of two other vertices. Thus, the number of triangles in the graph is A^3/6, where A is the adjacency matrix."
   ]
  },
  {
   "cell_type": "code",
   "execution_count": 3,
   "metadata": {
    "collapsed": false
   },
   "outputs": [
    {
     "name": "stdout",
     "output_type": "stream",
     "text": [
      "Number of closed triangles is 4\n"
     ]
    }
   ],
   "source": [
    "# Compute cube of adjacency matrix.\n",
    "adjCubed = np.matmul(np.matmul(adjMat,adjMat),adjMat)\n",
    "# Calculate number of triangles with formula.\n",
    "numTri = np.trace(adjCubed) / 6\n",
    "print(\"Number of closed triangles is\", int(numTri))"
   ]
  },
  {
   "cell_type": "markdown",
   "metadata": {},
   "source": [
    "Part c: Calculate the Laplacian matrix for the graph, eigenvalues and eigenvectors."
   ]
  },
  {
   "cell_type": "markdown",
   "metadata": {},
   "source": [
    "I looked up the Laplacian matrix, and I found that the Laplacian is just the degree matrix minus the adjacency matrix. The degree matrix is as follows:"
   ]
  },
  {
   "cell_type": "code",
   "execution_count": 4,
   "metadata": {
    "collapsed": false
   },
   "outputs": [
    {
     "data": {
      "text/plain": [
       "array([[4, 0, 0, 0, 0, 0, 0, 0, 0, 0, 0],\n",
       "       [0, 3, 0, 0, 0, 0, 0, 0, 0, 0, 0],\n",
       "       [0, 0, 2, 0, 0, 0, 0, 0, 0, 0, 0],\n",
       "       [0, 0, 0, 3, 0, 0, 0, 0, 0, 0, 0],\n",
       "       [0, 0, 0, 0, 5, 0, 0, 0, 0, 0, 0],\n",
       "       [0, 0, 0, 0, 0, 5, 0, 0, 0, 0, 0],\n",
       "       [0, 0, 0, 0, 0, 0, 2, 0, 0, 0, 0],\n",
       "       [0, 0, 0, 0, 0, 0, 0, 4, 0, 0, 0],\n",
       "       [0, 0, 0, 0, 0, 0, 0, 0, 5, 0, 0],\n",
       "       [0, 0, 0, 0, 0, 0, 0, 0, 0, 4, 0],\n",
       "       [0, 0, 0, 0, 0, 0, 0, 0, 0, 0, 2]])"
      ]
     },
     "execution_count": 4,
     "metadata": {},
     "output_type": "execute_result"
    }
   ],
   "source": [
    "degMat = np.array([[4,0,0,0,0,0,0,0,0,0,0],[0,3,0,0,0,0,0,0,0,0,0],[0,0,2,0,0,0,0,0,0,0,0],\n",
    "                   [0,0,0,3,0,0,0,0,0,0,0],[0,0,0,0,5,0,0,0,0,0,0],[0,0,0,0,0,5,0,0,0,0,0],\n",
    "                   [0,0,0,0,0,0,2,0,0,0,0],[0,0,0,0,0,0,0,4,0,0,0],[0,0,0,0,0,0,0,0,5,0,0],\n",
    "                   [0,0,0,0,0,0,0,0,0,4,0],[0,0,0,0,0,0,0,0,0,0,2]])\n",
    "degMat"
   ]
  },
  {
   "cell_type": "code",
   "execution_count": 5,
   "metadata": {
    "collapsed": false
   },
   "outputs": [
    {
     "data": {
      "text/plain": [
       "array([[ 4, -1,  0, -1,  0,  0,  0, -1, -1,  0,  0],\n",
       "       [-1,  3,  0,  0,  0, -1,  0, -1,  0,  0,  0],\n",
       "       [ 0,  0,  2, -1,  0, -1,  0,  0,  0,  0,  0],\n",
       "       [-1,  0, -1,  3, -1,  0,  0,  0,  0,  0,  0],\n",
       "       [ 0,  0,  0, -1,  5, -1,  0,  0, -1, -1,  0],\n",
       "       [ 0, -1, -1,  0, -1,  5, -1,  0, -1,  0,  0],\n",
       "       [ 0,  0,  0,  0,  0, -1,  2,  0,  0, -1,  0],\n",
       "       [-1, -1,  0,  0,  0,  0,  0,  4, -1,  0, -1],\n",
       "       [-1,  0,  0,  0, -1, -1,  0, -1,  5, -1,  0],\n",
       "       [ 0,  0,  0,  0, -1,  0, -1,  0, -1,  4, -1],\n",
       "       [ 0,  0,  0,  0,  0,  0,  0, -1,  0, -1,  2]])"
      ]
     },
     "execution_count": 5,
     "metadata": {},
     "output_type": "execute_result"
    }
   ],
   "source": [
    "# Calculate Laplacian using L = D - A\n",
    "lapMat = degMat - adjMat\n",
    "lapMat"
   ]
  },
  {
   "cell_type": "code",
   "execution_count": 6,
   "metadata": {
    "collapsed": false
   },
   "outputs": [
    {
     "name": "stdout",
     "output_type": "stream",
     "text": [
      "The eigenvalues of the Laplacian are:\n",
      "7.12246764872\n",
      "6.58738415088\n",
      "0.0728041804503\n",
      "5.36500658164\n",
      "4.90925723108\n",
      "4.13103440988\n",
      "3.45298610526\n",
      "2.76907346699\n",
      "1.95063611102\n",
      "1.1729950366\n",
      "1.46635507749\n"
     ]
    }
   ],
   "source": [
    "# Use linalg library to calculate eigenvalues, eigenvectors.\n",
    "evals,evects = np.linalg.eig(lapMat)\n",
    "print(\"The eigenvalues of the Laplacian are:\")\n",
    "for i in range (0,len(evals)):\n",
    "    print(evals[i])"
   ]
  },
  {
   "cell_type": "markdown",
   "metadata": {},
   "source": [
    "According to the numpy linalg documentation, the eigenvectors are the columns of the array that I have named 'evects.'"
   ]
  },
  {
   "cell_type": "code",
   "execution_count": 7,
   "metadata": {
    "collapsed": false
   },
   "outputs": [
    {
     "name": "stdout",
     "output_type": "stream",
     "text": [
      "The eigenvectors of the Laplacian are:\n",
      "[ 0.15584518 -0.24125161 -0.12804646  0.04648993 -0.21945196  0.60942389\n",
      " -0.18358974  0.22928288 -0.52114273  0.3310086  -0.10937921]\n",
      "[ -2.95637471e-01   5.62555122e-02  -1.09780868e-01   3.07369403e-01\n",
      "  -6.97233787e-01   1.96237609e-01  -6.44583902e-02  -1.02410271e-01\n",
      "   5.03713062e-01   9.94577885e-02   6.43609224e-04]\n",
      "[ 0.31198824  0.31691412  0.30751022  0.29392962  0.24089108  0.2987028\n",
      "  0.30903524  0.31697865  0.29741651  0.29686862  0.31851837]\n",
      "[-0.58120778  0.09941941  0.02723617  0.19675604  0.08864229 -0.28840591\n",
      "  0.02728135  0.63448615 -0.13730915  0.196604   -0.24698025]\n",
      "[ 0.26715545  0.22256912  0.19513338 -0.10650812 -0.25893744 -0.46118508\n",
      " -0.07255232 -0.23091208 -0.12806195  0.67225845 -0.15170414]\n",
      "[ 0.34865847 -0.55089093  0.20962288 -0.26473154 -0.25886086 -0.18198202\n",
      "  0.12845673  0.45640015  0.31353607 -0.09176368 -0.17110773]\n",
      "[ 0.24887845  0.01513982 -0.13520824  0.49559154 -0.33816629 -0.29913586\n",
      "  0.41345806  0.04339928 -0.41799068 -0.30161296  0.17771242]\n",
      "[-0.18535269  0.39767526  0.44763589 -0.50202249 -0.37821351  0.15775761\n",
      "  0.12808516  0.11942885 -0.24323717 -0.25626451  0.17792274]\n",
      "[-0.25053084 -0.46364685  0.40808933  0.16037784  0.01073623 -0.14023297\n",
      " -0.26841067 -0.09577046 -0.11438939  0.12698317  0.63229856]\n",
      "[-0.04140209  0.02221451 -0.63453039 -0.40215788 -0.05881197 -0.1226019\n",
      "  0.1436203   0.20459     0.05830947  0.2413766   0.53925505]\n",
      "[ 0.31537427  0.31852733 -0.08002664  0.10834589 -0.0691835  -0.1510517\n",
      " -0.75106821  0.32418526  0.04798793 -0.24975203  0.13948081]\n"
     ]
    }
   ],
   "source": [
    "print(\"The eigenvectors of the Laplacian are:\")\n",
    "for i in range (0,len(evects)):\n",
    "    print(evects[:,i])"
   ]
  },
  {
   "cell_type": "markdown",
   "metadata": {},
   "source": [
    "Part d: use eigenvectors corresponding to lowest eigenvalues to plot graph."
   ]
  },
  {
   "cell_type": "markdown",
   "metadata": {},
   "source": [
    "Smallest eigenvalues are 0.07280418 and 1.17299504, corresponding to indices 2 and 9. But after graphing, I didn't get results I expected, so I concluded that the 0.0728.. was essentially the zero eigenvalue. Thus, the smallest non-zero eigenvalues are 1.17299504 and 1.46635507749, corresponding to indices 9 and 10."
   ]
  },
  {
   "cell_type": "code",
   "execution_count": 8,
   "metadata": {
    "collapsed": false
   },
   "outputs": [
    {
     "data": {
      "image/png": "[encoded data removed]",
      "text/plain": [
       "<matplotlib.figure.Figure at 0x7f350d187be0>"
      ]
     },
     "metadata": {},
     "output_type": "display_data"
    }
   ],
   "source": [
    "# Scatterplot for graph\n",
    "x=evects[:,9]\n",
    "y=evects[:,10]\n",
    "plt.scatter(x,y)\n",
    "plt.show()"
   ]
  },
  {
   "cell_type": "code",
   "execution_count": 9,
   "metadata": {
    "collapsed": false
   },
   "outputs": [
    {
     "data": {
      "image/png": "[encoded data removed]",
      "text/plain": [
       "<matplotlib.figure.Figure at 0x7f350aca8ef0>"
      ]
     },
     "metadata": {},
     "output_type": "display_data"
    }
   ],
   "source": [
    "import networkx as nx\n",
    "\n",
    "# Initialize the eigenvectors.\n",
    "vec1=evects[:,9]\n",
    "vec2=evects[:,10]\n",
    "\n",
    "# Initialize and empty graph\n",
    "G=nx.Graph()\n",
    "# Add nodes with corresponding positions.\n",
    "G.add_node(1,pos=(vec1[0],vec2[0]))\n",
    "G.add_node(2,pos=(vec1[1],vec2[1]))\n",
    "G.add_node(3,pos=(vec1[2],vec2[2]))\n",
    "G.add_node(4,pos=(vec1[3],vec2[3]))\n",
    "G.add_node(5,pos=(vec1[4],vec2[4]))\n",
    "G.add_node(6,pos=(vec1[5],vec2[5]))\n",
    "G.add_node(7,pos=(vec1[6],vec2[6]))\n",
    "G.add_node(8,pos=(vec1[7],vec2[7]))\n",
    "G.add_node(9,pos=(vec1[8],vec2[8]))\n",
    "G.add_node(10,pos=(vec1[9],vec2[9]))\n",
    "G.add_node(11,pos=(vec1[10],vec2[10]))\n",
    "\n",
    "pos=nx.get_node_attributes(G,'pos')\n",
    "nx.draw_networkx(G, pos=pos, node_size=200)\n",
    "# 1 corresponds to x1, 2 to x2, etc."
   ]
  },
  {
   "cell_type": "markdown",
   "metadata": {},
   "source": [
    "As expected, x5,x6,x9, which all had degree 5, are at the center. Meanwhile, x3,x7,x11, which each only had 2 connections, are out toward the fringes of the graph. To visualize this better, I added the edges to the graph below."
   ]
  },
  {
   "cell_type": "code",
   "execution_count": 10,
   "metadata": {
    "collapsed": false
   },
   "outputs": [
    {
     "data": {
      "image/png": "[encoded data removed]",
      "text/plain": [
       "<matplotlib.figure.Figure at 0x7f350af1ce10>"
      ]
     },
     "metadata": {},
     "output_type": "display_data"
    }
   ],
   "source": [
    "# Add edges.\n",
    "for i in range(0,11):\n",
    "    for j in range(0,11):\n",
    "        if adjMat[i][j]==1:\n",
    "            G.add_edge(i+1,j+1)\n",
    "nx.draw_networkx(G, pos=pos, node_size=200)"
   ]
  },
  {
   "cell_type": "markdown",
   "metadata": {},
   "source": [
    "Again, the vertices with few connections are relatively isolated, while those with more connections are closer to the center and other vertices."
   ]
  },
  {
   "cell_type": "code",
   "execution_count": null,
   "metadata": {
    "collapsed": true
   },
   "outputs": [],
   "source": []
  }
 ],
 "metadata": {
  "kernelspec": {
   "display_name": "Python 3",
   "language": "python",
   "name": "python3"
  },
  "language_info": {
   "codemirror_mode": {
    "name": "ipython",
    "version": 3
   },
   "file_extension": ".py",
   "mimetype": "text/x-python",
   "name": "python",
   "nbconvert_exporter": "python",
   "pygments_lexer": "ipython3",
   "version": "3.5.3"
  }
 },
 "nbformat": 4,
 "nbformat_minor": 0
}
