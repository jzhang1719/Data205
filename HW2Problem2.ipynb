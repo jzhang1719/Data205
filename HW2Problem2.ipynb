{
 "cells": [
  {
   "cell_type": "markdown",
   "metadata": {},
   "source": [
    "# Problem 2"
   ]
  },
  {
   "cell_type": "code",
   "execution_count": 17,
   "metadata": {
    "collapsed": true
   },
   "outputs": [],
   "source": [
    "import pandas as pd\n",
    "import matplotlib.pyplot as plt\n",
    "import numpy as np\n",
    "from random import *"
   ]
  },
  {
   "cell_type": "markdown",
   "metadata": {},
   "source": [
    "The expected value of one dice roll is $(1 + 2 + 3 + 4 + 5 + 6) / 6 = 3.5$. Also, the variance for a single dice roll is $6.25 * (1/6) + 2.25 * (1/6) + 0.25 * (1/6) + 0.25 * (1/6) + 2.25 * (1/6) + 6.25 * (1/6) = 2.917$, so the standard deviation for a single dice roll is $\\sqrt{2.917}=1.71$. Thus, for $24$ dice rolls, the expected value is $24 * 3.5 = 84$, and the standard deviation is $\\sqrt{24} * 1.71 = 8.377.$"
   ]
  },
  {
   "cell_type": "markdown",
   "metadata": {},
   "source": [
    "Part a: By the Central Limit Theorem, the distribution of the sum of 24 dice rolls should approach the normal distribution. The normal distribution is symmetric and the mean/expected value for this case is 84, but only integer sums are possible, so I'm going to calculate the probability that the sum exceeds by 84 by taking values greater than 84.5. The z-score for 84.5 is $(84.5-84)/ 8.377 = 0.059687$. Thus, under a normal distribution, the probability that the sum of 24 rolls exceeds 84 is 0.4762."
   ]
  },
  {
   "cell_type": "markdown",
   "metadata": {},
   "source": [
    "Part b: Again, by the Central Limit Theorem, the distribution of the sum of 24 dice rolls should approach the normal distribution. To calculate the probability that the sum is 84, I'm going to calculuate values between 83.5 and 84.5. But this would just be finding percentage between z-scores -0.059687 and +0.059687. This is just 0.52379763 - 0.47620237 = 0.04759526."
   ]
  },
  {
   "cell_type": "markdown",
   "metadata": {},
   "source": [
    "Run a simulation of 24 dice rolls 300 times."
   ]
  },
  {
   "cell_type": "code",
   "execution_count": 18,
   "metadata": {
    "collapsed": false
   },
   "outputs": [
    {
     "data": {
      "text/plain": [
       "300"
      ]
     },
     "execution_count": 18,
     "metadata": {},
     "output_type": "execute_result"
    }
   ],
   "source": [
    "sumVector = []\n",
    "for x in range(0,300):\n",
    "    sumDie = 0\n",
    "    for y in range(0,24):\n",
    "        sumDie = sumDie + randint(1,6)\n",
    "        y += 1\n",
    "    sumVector.append(sumDie)\n",
    "    x += 1\n",
    "# Note: the values that follow will be different if the simulation is run again because the \n",
    "# random values will be different."
   ]
  },
  {
   "cell_type": "markdown",
   "metadata": {},
   "source": [
    "Plot this as a distribution"
   ]
  },
  {
   "cell_type": "code",
   "execution_count": 19,
   "metadata": {
    "collapsed": false
   },
   "outputs": [
    {
     "data": {
      "text/plain": [
       "<matplotlib.axes._subplots.AxesSubplot at 0x7f82d1b504e0>"
      ]
     },
     "execution_count": 19,
     "metadata": {},
     "output_type": "execute_result"
    },
    {
     "data": {
      "image/png": "[encoded data removed]",
      "text/plain": [
       "<matplotlib.figure.Figure at 0x7f82d85f6d30>"
      ]
     },
     "metadata": {},
     "output_type": "display_data"
    },
    {
     "data": {
      "image/png": "[encoded data removed]",
      "text/plain": [
       "<matplotlib.figure.Figure at 0x7f82d85e3cf8>"
      ]
     },
     "metadata": {},
     "output_type": "display_data"
    }
   ],
   "source": [
    "df = pd.DataFrame({0:sumVector})\n",
    "plt.hist(df, 40, range=[0,150])\n",
    "plt.title(\"24 Dice Rolls Histogram\")\n",
    "plt.xlabel(\"Sum\")\n",
    "plt.ylabel(\"Frequency\")\n",
    "df.plot(kind='density')"
   ]
  },
  {
   "cell_type": "code",
   "execution_count": 20,
   "metadata": {
    "collapsed": false
   },
   "outputs": [
    {
     "data": {
      "text/plain": [
       "148"
      ]
     },
     "execution_count": 20,
     "metadata": {},
     "output_type": "execute_result"
    }
   ],
   "source": [
    "# Number of the 24 dice rolls (of the 300) whose sum exceeds 84.\n",
    "sum(x > 84 for x in sumVector)"
   ]
  },
  {
   "cell_type": "code",
   "execution_count": 21,
   "metadata": {
    "collapsed": false
   },
   "outputs": [
    {
     "data": {
      "text/plain": [
       "13"
      ]
     },
     "execution_count": 21,
     "metadata": {},
     "output_type": "execute_result"
    }
   ],
   "source": [
    "# Number of the 24 dice rolls (of the 300) whose sum equals 84.\n",
    "sum(x == 84 for x in sumVector)"
   ]
  },
  {
   "cell_type": "markdown",
   "metadata": {},
   "source": [
    "Looking at these graphs, the distribution of the sum of 24 dice rolls appears approximately normal. Also, the number of dice rolls whose sum exceeds 84 is 148. This comes out to 148/300 = 0.493333, which is not far off from the 0.4762 calculated in part a. The number of dice rolls whose sum was exactly 84 is 13. This comes out to 17/300 = 0.04333, which is quite close to the 0.04759 calculated in part b."
   ]
  },
  {
   "cell_type": "code",
   "execution_count": null,
   "metadata": {
    "collapsed": true
   },
   "outputs": [],
   "source": []
  }
 ],
 "metadata": {
  "kernelspec": {
   "display_name": "Python 3",
   "language": "python",
   "name": "python3"
  },
  "language_info": {
   "codemirror_mode": {
    "name": "ipython",
    "version": 3
   },
   "file_extension": ".py",
   "mimetype": "text/x-python",
   "name": "python",
   "nbconvert_exporter": "python",
   "pygments_lexer": "ipython3",
   "version": "3.5.3"
  }
 },
 "nbformat": 4,
 "nbformat_minor": 0
}
